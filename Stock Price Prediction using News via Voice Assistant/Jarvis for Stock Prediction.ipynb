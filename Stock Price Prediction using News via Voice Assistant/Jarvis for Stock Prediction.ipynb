{
 "cells": [
  {
   "cell_type": "code",
   "execution_count": 71,
   "id": "05f4c711",
   "metadata": {
    "scrolled": true
   },
   "outputs": [
    {
     "name": "stdout",
     "output_type": "stream",
     "text": [
      "2109.1001\n",
      "2195.75\n",
      "0.039 %\n",
      "ADANIGREEN.BSE:🔻0.039 %\n",
      "Headline: India X Cleantech — November 2022. \n",
      "Brief: Welcome to another issue of our India x Cleantech series! On a monthly basis, we are pulling news from across clean technology sectors in India into a single, concise summary article about the country. Cleantech Investments Borosil Renewables Acquires Majorit…\n",
      "Headline: Morning Scan: All the big stories to get you started for the day. \n",
      "Brief: A round-up of the biggest articles from newspapers\n",
      "Headline: Stock market update: Power stocks down as market rises. \n",
      "Brief: The 30-share BSE Sensex closed  up  107.73 points at 61980.72\n",
      "Headline: A 10,000% Indian stock rally plunges on shaky green claims. \n",
      "Brief: That kind of moonshot market performance is rare but not entirely unheard of in India, particularly among small, thinly traded companies. For EKI, there was something else at work. It’s the first listed carbon offsets company, and the market price of those of…\n",
      "Headline: After A 10,000% Rally, This Indian Stock Plunges On Shaky Green Claims. \n",
      "Brief: EKI Energy Services shares shot up 10,000 per cent, taking the valuation of the company from about $10 million to $1 billion.\n",
      "Headline: India expected to see faster progress towards clean energy economy: Report. \n",
      "Brief: At least three of the four top emitters of greenhouse gases -- China, the EU and India -- are expected to see faster progress towards a clean energy economy than they have set out in national plans or NDCs, according to a new analysis released on Monday, coin…\n",
      "Headline: Stock market update: Power stocks mixed as market falls. \n",
      "Brief: The 30-share BSE Sensex was  down  147.01 points at 61477.14\n",
      "Headline: Stock market update: Power stocks down as market falls. \n",
      "Brief: The 30-share BSE Sensex was  down  115.18 points at 61679.86\n",
      "Headline: India has drawn its red lines at the Sharm El Sheik climate conference - Quartz. \n",
      "Brief: It is still an unequal world with enormous disparities in energy use, incomes, and emissions, it says.\n"
     ]
    }
   ],
   "source": [
    "import requests\n",
    "#import creds #file containing all API keys\n",
    "NEWS_API_KEY=\"4a61008cfefb4d219769b9a79b502bc7\"\n",
    "API_KEY=\"TYJFQF7NUIWK4TE9\"\n",
    "from datetime import date,timedelta\n",
    "#from twilio.rest import Client\n",
    "\n",
    "STOCK_NAME = \"ADANIGREEN.BSE\"\n",
    "COMPANY_NAME = \"Adani Green Energy\"\n",
    "\n",
    "STOCK_ENDPOINT = \"https://www.alphavantage.co/query\"\n",
    "\n",
    "today = date.today() - timedelta(days=1)\n",
    "yesterday= today-timedelta(days=2)\n",
    "\n",
    "news_url =f\"https://newsapi.org/v2/everything?q={COMPANY_NAME}&from={today}&to={yesterday}&sortBy=popularity&apiKey={NEWS_API_KEY}\"\n",
    "url = f'https://www.alphavantage.co/query?function=TIME_SERIES_DAILY_ADJUSTED&symbol={STOCK_NAME}&outputsize=full&apikey={API_KEY}'\n",
    "\n",
    "r= requests.get(url)\n",
    "data =r.json()\n",
    "\n",
    "#print(data)\n",
    "Today_Close= float(list(data[\"Time Series (Daily)\"].values())[0][\"4. close\"])\n",
    "Yest_Close =float(list(data[\"Time Series (Daily)\"].values())[1][\"4. close\"])\n",
    "news=[]\n",
    "\n",
    "diff = abs(Today_Close-Yest_Close)/Yest_Close\n",
    "Diff =round(diff,3)\n",
    "print(Today_Close)\n",
    "print(Yest_Close)\n",
    "print(f\"{Diff} %\")\n",
    "\n",
    "if diff>=0:\n",
    "    r2 =requests.get(news_url)\n",
    "    r2.raise_for_status()\n",
    "    #print(r2.json())\n",
    "    data2 =r2.json()['articles']\n",
    "    news = data2\n",
    "#print(news)\n",
    "if (Today_Close-Yest_Close)/Yest_Close >0:\n",
    "    symbol= \"🔺\"\n",
    "else:\n",
    "    symbol=\"🔻\"\n",
    "print(f\"{STOCK_NAME}:{symbol}{Diff} %\")\n",
    "\n",
    "formatted_articles = [f\"Headline: {article['title']}. \\nBrief: {article['description']}\" for article in news]\n",
    "#print(formatted_articles)\n",
    "\n",
    "\n",
    "# client = Client(creds.account_sid, creds.auth_token)\n",
    "for article in formatted_articles:\n",
    "    print(article)\n",
    "# for article in formatted_articles:\n",
    "#     message = client.messages.create(\n",
    "#                                   body=article,\n",
    "#                                   from_=creds.from_no,\n",
    "#                                   to=creds.to_no\n",
    "#                               )\n",
    "\n",
    "#     # print(message.sid)\n",
    "# ###"
   ]
  },
  {
   "cell_type": "code",
   "execution_count": 62,
   "id": "fd089a33",
   "metadata": {},
   "outputs": [
    {
     "name": "stdout",
     "output_type": "stream",
     "text": [
      "Empty DataFrame\n",
      "Columns: [1. open, 2. high, 3. low, 4. close, 5. adjusted close, 6. volume, 7. dividend amount]\n",
      "Index: []\n"
     ]
    },
    {
     "name": "stderr",
     "output_type": "stream",
     "text": [
      "C:\\Users\\avdho\\AppData\\Local\\Temp/ipykernel_39308/3618291108.py:6: FutureWarning: Indexing a DataFrame with a datetimelike index using a single string to slice the rows, like `frame[string]`, is deprecated and will be removed in a future version. Use `frame.loc[string]` instead.\n",
      "  print(aapl['2022-11-15'])\n"
     ]
    }
   ],
   "source": [
    "from alpha_vantage.timeseries import TimeSeries\n",
    "key=\"54e24ac424mshf2bc08e7e9b4a5ep1f6ab8jsn0efd42414d16\"\n",
    "\n",
    "ts=TimeSeries(key,output_format='pandas')\n",
    "aapl,meta=ts.get_monthly_adjusted(symbol='ADANIGREEN.BSE')\n",
    "print(aapl['2022-11-15'])"
   ]
  },
  {
   "cell_type": "code",
   "execution_count": null,
   "id": "e2dc3f2e",
   "metadata": {},
   "outputs": [],
   "source": [
    "import requests\n",
    "import pandas as pd\n",
    "\n",
    "#import creds #file containing all API keys\n",
    "NEWS_API_KEY=\"4a61008cfefb4d219769b9a79b502bc7\"\n",
    "API_KEY=\"TYJFQF7NUIWK4TE9\"\n",
    "from datetime import date,timedelta\n",
    "#from twilio.rest import Client\n",
    "\n",
    "STOCK_NAME = \"ADANIGREEN.BSE\"\n",
    "COMPANY_NAME = \"Adani Green Energy\"\n",
    "\n",
    "STOCK_ENDPOINT = \"https://www.alphavantage.co/query\"\n",
    "\n",
    "today = date.today() - timedelta(days=1)\n",
    "yesterday= today-timedelta(days=2)\n",
    "\n",
    "news_url =f\"https://newsapi.org/v2/everything?q={COMPANY_NAME}&from={today}&to={yesterday}&sortBy=popularity&apiKey={NEWS_API_KEY}\"\n",
    "url = f'https://www.alphavantage.co/query?function=TIME_SERIES_DAILY_ADJUSTED&symbol={STOCK_NAME}&outputsize=full&apikey={API_KEY}'\n",
    "\n",
    "r= requests.get(url)\n",
    "data =r.json()\n",
    "\n",
    "#print(data)\n",
    "Today_Close= float(list(data[\"Time Series (Daily)\"].values())[0][\"4. close\"])\n",
    "Yest_Close =float(list(data[\"Time Series (Daily)\"].values())[1][\"4. close\"])\n",
    "news=[]\n",
    "\n",
    "diff = abs(Today_Close-Yest_Close)/Yest_Close\n",
    "Diff =round(diff,3)\n",
    "print(Today_Close)\n",
    "print(Yest_Close)\n",
    "print(f\"{Diff} %\")\n",
    "\n",
    "if diff>=0:\n",
    "    r2 =requests.get(news_url)\n",
    "    r2.raise_for_status()\n",
    "    #print(r2.json())\n",
    "    news =r2.json()['articles']\n",
    "#print(news)\n",
    "if (Today_Close-Yest_Close)/Yest_Close >0:\n",
    "    symbol= \"🔺\"\n",
    "else:\n",
    "    symbol=\"🔻\"\n",
    "print(f\"{STOCK_NAME}:{symbol}{Diff} %\")\n",
    "\n",
    "formatted_articles = [f\"Headline: {article['title']}. \\nBrief: {article['description']}\" for article in news]\n",
    "#print(formatted_articles)\n",
    "\n",
    "\n",
    "# client = Client(creds.account_sid, creds.auth_token)\n",
    "for article in formatted_articles:\n",
    "    print(article)\n",
    "# for article in formatted_articles:\n",
    "#     message = client.messages.create(\n",
    "#                                   body=article,\n",
    "#                                   from_=creds.from_no,\n",
    "#                                   to=creds.to_no\n",
    "#                               )\n",
    "\n",
    "#     # print(message.sid)\n",
    "# ###"
   ]
  },
  {
   "cell_type": "code",
   "execution_count": 191,
   "id": "9607ee0a",
   "metadata": {},
   "outputs": [],
   "source": [
    "def news_to_df(data):\n",
    "    val=[]\n",
    "    change=[]\n",
    "    date=[]\n",
    "    text=[]\n",
    "    news =r2.json()['articles']\n",
    "    df=pd.DataFrame(columns=['date','text','label'])\n",
    "    stock_values_all=list(data[\"Time Series (Daily)\"].values())\n",
    "    for i in range(len(news)-1,0,-1):\n",
    "        if stock_values_all[i-1][\"4. close\"]>stock_values_all[i][\"4. close\"]:\n",
    "            change.append(1)\n",
    "        else:\n",
    "            change.append(0)\n",
    "    change=change[::-1]\n",
    "    change.append(0)\n",
    "    for i in range(len(news),0,-1):\n",
    "        val.append(stock_values_all[i-1][\"4. close\"])\n",
    "    for article in news:\n",
    "        date.append(article['publishedAt'][:10])\n",
    "        text.append(article['description'])\n",
    "    df['date']=date\n",
    "    df['text']=text\n",
    "    df['label']=change\n",
    "    return df,val"
   ]
  },
  {
   "cell_type": "code",
   "execution_count": 192,
   "id": "591bbfb2",
   "metadata": {
    "scrolled": false
   },
   "outputs": [],
   "source": [
    "df,values=news_to_df(data)"
   ]
  },
  {
   "cell_type": "code",
   "execution_count": 193,
   "id": "1f9c4cd8",
   "metadata": {},
   "outputs": [],
   "source": [
    "headlines=df['text']\n",
    "label=df['label']"
   ]
  },
  {
   "cell_type": "code",
   "execution_count": 194,
   "id": "eaabe2f5",
   "metadata": {
    "scrolled": true
   },
   "outputs": [
    {
     "name": "stdout",
     "output_type": "stream",
     "text": [
      "2022-11-17\n"
     ]
    }
   ],
   "source": [
    "from datetime import date\n",
    "\n",
    "today = date.today()\n",
    "\n",
    "# dd/mm/YY\n",
    "d1 = str(today.strftime(\"%Y-%m-%d\"))\n",
    "print(d1)"
   ]
  },
  {
   "cell_type": "code",
   "execution_count": 195,
   "id": "b6b40674",
   "metadata": {},
   "outputs": [],
   "source": [
    "from sklearn.feature_extraction.text import CountVectorizer,TfidfVectorizer\n",
    "from sklearn.ensemble import RandomForestClassifier\n",
    "\n",
    "## implement BAG OF WORDS\n",
    "#countvector=CountVectorizer(ngram_range=(2,2))\n",
    "#traindataset=countvector.fit_transform(headlines)\n",
    "\n",
    "tfidfvector=TfidfVectorizer()\n",
    "traindataset=tfidfvector.fit_transform(headlines)"
   ]
  },
  {
   "cell_type": "code",
   "execution_count": 196,
   "id": "2c542a11",
   "metadata": {},
   "outputs": [
    {
     "data": {
      "text/plain": [
       "<9x146 sparse matrix of type '<class 'numpy.float64'>'\n",
       "\twith 197 stored elements in Compressed Sparse Row format>"
      ]
     },
     "execution_count": 196,
     "metadata": {},
     "output_type": "execute_result"
    }
   ],
   "source": [
    "traindataset"
   ]
  },
  {
   "cell_type": "code",
   "execution_count": 197,
   "id": "d437adb6",
   "metadata": {},
   "outputs": [
    {
     "data": {
      "text/html": [
       "<style>#sk-container-id-2 {color: black;background-color: white;}#sk-container-id-2 pre{padding: 0;}#sk-container-id-2 div.sk-toggleable {background-color: white;}#sk-container-id-2 label.sk-toggleable__label {cursor: pointer;display: block;width: 100%;margin-bottom: 0;padding: 0.3em;box-sizing: border-box;text-align: center;}#sk-container-id-2 label.sk-toggleable__label-arrow:before {content: \"▸\";float: left;margin-right: 0.25em;color: #696969;}#sk-container-id-2 label.sk-toggleable__label-arrow:hover:before {color: black;}#sk-container-id-2 div.sk-estimator:hover label.sk-toggleable__label-arrow:before {color: black;}#sk-container-id-2 div.sk-toggleable__content {max-height: 0;max-width: 0;overflow: hidden;text-align: left;background-color: #f0f8ff;}#sk-container-id-2 div.sk-toggleable__content pre {margin: 0.2em;color: black;border-radius: 0.25em;background-color: #f0f8ff;}#sk-container-id-2 input.sk-toggleable__control:checked~div.sk-toggleable__content {max-height: 200px;max-width: 100%;overflow: auto;}#sk-container-id-2 input.sk-toggleable__control:checked~label.sk-toggleable__label-arrow:before {content: \"▾\";}#sk-container-id-2 div.sk-estimator input.sk-toggleable__control:checked~label.sk-toggleable__label {background-color: #d4ebff;}#sk-container-id-2 div.sk-label input.sk-toggleable__control:checked~label.sk-toggleable__label {background-color: #d4ebff;}#sk-container-id-2 input.sk-hidden--visually {border: 0;clip: rect(1px 1px 1px 1px);clip: rect(1px, 1px, 1px, 1px);height: 1px;margin: -1px;overflow: hidden;padding: 0;position: absolute;width: 1px;}#sk-container-id-2 div.sk-estimator {font-family: monospace;background-color: #f0f8ff;border: 1px dotted black;border-radius: 0.25em;box-sizing: border-box;margin-bottom: 0.5em;}#sk-container-id-2 div.sk-estimator:hover {background-color: #d4ebff;}#sk-container-id-2 div.sk-parallel-item::after {content: \"\";width: 100%;border-bottom: 1px solid gray;flex-grow: 1;}#sk-container-id-2 div.sk-label:hover label.sk-toggleable__label {background-color: #d4ebff;}#sk-container-id-2 div.sk-serial::before {content: \"\";position: absolute;border-left: 1px solid gray;box-sizing: border-box;top: 0;bottom: 0;left: 50%;z-index: 0;}#sk-container-id-2 div.sk-serial {display: flex;flex-direction: column;align-items: center;background-color: white;padding-right: 0.2em;padding-left: 0.2em;position: relative;}#sk-container-id-2 div.sk-item {position: relative;z-index: 1;}#sk-container-id-2 div.sk-parallel {display: flex;align-items: stretch;justify-content: center;background-color: white;position: relative;}#sk-container-id-2 div.sk-item::before, #sk-container-id-2 div.sk-parallel-item::before {content: \"\";position: absolute;border-left: 1px solid gray;box-sizing: border-box;top: 0;bottom: 0;left: 50%;z-index: -1;}#sk-container-id-2 div.sk-parallel-item {display: flex;flex-direction: column;z-index: 1;position: relative;background-color: white;}#sk-container-id-2 div.sk-parallel-item:first-child::after {align-self: flex-end;width: 50%;}#sk-container-id-2 div.sk-parallel-item:last-child::after {align-self: flex-start;width: 50%;}#sk-container-id-2 div.sk-parallel-item:only-child::after {width: 0;}#sk-container-id-2 div.sk-dashed-wrapped {border: 1px dashed gray;margin: 0 0.4em 0.5em 0.4em;box-sizing: border-box;padding-bottom: 0.4em;background-color: white;}#sk-container-id-2 div.sk-label label {font-family: monospace;font-weight: bold;display: inline-block;line-height: 1.2em;}#sk-container-id-2 div.sk-label-container {text-align: center;}#sk-container-id-2 div.sk-container {/* jupyter's `normalize.less` sets `[hidden] { display: none; }` but bootstrap.min.css set `[hidden] { display: none !important; }` so we also need the `!important` here to be able to override the default hidden behavior on the sphinx rendered scikit-learn.org. See: https://github.com/scikit-learn/scikit-learn/issues/21755 */display: inline-block !important;position: relative;}#sk-container-id-2 div.sk-text-repr-fallback {display: none;}</style><div id=\"sk-container-id-2\" class=\"sk-top-container\"><div class=\"sk-text-repr-fallback\"><pre>RandomForestClassifier(criterion=&#x27;entropy&#x27;, n_estimators=200)</pre><b>In a Jupyter environment, please rerun this cell to show the HTML representation or trust the notebook. <br />On GitHub, the HTML representation is unable to render, please try loading this page with nbviewer.org.</b></div><div class=\"sk-container\" hidden><div class=\"sk-item\"><div class=\"sk-estimator sk-toggleable\"><input class=\"sk-toggleable__control sk-hidden--visually\" id=\"sk-estimator-id-2\" type=\"checkbox\" checked><label for=\"sk-estimator-id-2\" class=\"sk-toggleable__label sk-toggleable__label-arrow\">RandomForestClassifier</label><div class=\"sk-toggleable__content\"><pre>RandomForestClassifier(criterion=&#x27;entropy&#x27;, n_estimators=200)</pre></div></div></div></div></div>"
      ],
      "text/plain": [
       "RandomForestClassifier(criterion='entropy', n_estimators=200)"
      ]
     },
     "execution_count": 197,
     "metadata": {},
     "output_type": "execute_result"
    }
   ],
   "source": [
    "\n",
    "# implement RandomForest Classifier\n",
    "randomclassifier=RandomForestClassifier(n_estimators=200,criterion='entropy')\n",
    "randomclassifier.fit(traindataset,label)"
   ]
  },
  {
   "cell_type": "code",
   "execution_count": 204,
   "id": "c9e15908",
   "metadata": {},
   "outputs": [
    {
     "name": "stdout",
     "output_type": "stream",
     "text": [
      "ADANIGREEN.BSE:🔻\n"
     ]
    }
   ],
   "source": [
    "test=tfidfvector.transform([d1+' This is local news. Its dropping'])\n",
    "output=randomclassifier.predict(test)\n",
    "if output==1:\n",
    "    symbol= \"🔺\"\n",
    "else:\n",
    "    symbol=\"🔻\"\n",
    "print(f\"{STOCK_NAME}:{symbol}\")"
   ]
  },
  {
   "cell_type": "code",
   "execution_count": 199,
   "id": "d8c833bd",
   "metadata": {},
   "outputs": [
    {
     "data": {
      "text/plain": [
       "[2104.2,\n",
       " 2120.9,\n",
       " 2166.6,\n",
       " 2214.8501,\n",
       " 2172.8501,\n",
       " 2195.3999,\n",
       " 2179.05,\n",
       " 2195.75,\n",
       " 2109.1001]"
      ]
     },
     "execution_count": 199,
     "metadata": {},
     "output_type": "execute_result"
    }
   ],
   "source": [
    "list(map(float,values))"
   ]
  },
  {
   "cell_type": "code",
   "execution_count": 200,
   "id": "586e1af2",
   "metadata": {},
   "outputs": [
    {
     "data": {
      "text/html": [
       "<div>\n",
       "<style scoped>\n",
       "    .dataframe tbody tr th:only-of-type {\n",
       "        vertical-align: middle;\n",
       "    }\n",
       "\n",
       "    .dataframe tbody tr th {\n",
       "        vertical-align: top;\n",
       "    }\n",
       "\n",
       "    .dataframe thead th {\n",
       "        text-align: right;\n",
       "    }\n",
       "</style>\n",
       "<table border=\"1\" class=\"dataframe\">\n",
       "  <thead>\n",
       "    <tr style=\"text-align: right;\">\n",
       "      <th></th>\n",
       "      <th>date</th>\n",
       "      <th>text</th>\n",
       "      <th>label</th>\n",
       "    </tr>\n",
       "  </thead>\n",
       "  <tbody>\n",
       "    <tr>\n",
       "      <th>0</th>\n",
       "      <td>2022-11-15</td>\n",
       "      <td>Welcome to another issue of our India x Cleant...</td>\n",
       "      <td>0</td>\n",
       "    </tr>\n",
       "    <tr>\n",
       "      <th>1</th>\n",
       "      <td>2022-11-15</td>\n",
       "      <td>A round-up of the biggest articles from newspa...</td>\n",
       "      <td>1</td>\n",
       "    </tr>\n",
       "    <tr>\n",
       "      <th>2</th>\n",
       "      <td>2022-11-16</td>\n",
       "      <td>The 30-share BSE Sensex closed  up  107.73 poi...</td>\n",
       "      <td>0</td>\n",
       "    </tr>\n",
       "    <tr>\n",
       "      <th>3</th>\n",
       "      <td>2022-11-16</td>\n",
       "      <td>That kind of moonshot market performance is ra...</td>\n",
       "      <td>1</td>\n",
       "    </tr>\n",
       "    <tr>\n",
       "      <th>4</th>\n",
       "      <td>2022-11-16</td>\n",
       "      <td>EKI Energy Services shares shot up 10,000 per ...</td>\n",
       "      <td>0</td>\n",
       "    </tr>\n",
       "    <tr>\n",
       "      <th>5</th>\n",
       "      <td>2022-11-14</td>\n",
       "      <td>At least three of the four top emitters of gre...</td>\n",
       "      <td>1</td>\n",
       "    </tr>\n",
       "    <tr>\n",
       "      <th>6</th>\n",
       "      <td>2022-11-15</td>\n",
       "      <td>The 30-share BSE Sensex was  down  147.01 poin...</td>\n",
       "      <td>1</td>\n",
       "    </tr>\n",
       "    <tr>\n",
       "      <th>7</th>\n",
       "      <td>2022-11-14</td>\n",
       "      <td>The 30-share BSE Sensex was  down  115.18 poin...</td>\n",
       "      <td>1</td>\n",
       "    </tr>\n",
       "    <tr>\n",
       "      <th>8</th>\n",
       "      <td>2022-11-14</td>\n",
       "      <td>It is still an unequal world with enormous dis...</td>\n",
       "      <td>0</td>\n",
       "    </tr>\n",
       "  </tbody>\n",
       "</table>\n",
       "</div>"
      ],
      "text/plain": [
       "         date                                               text  label\n",
       "0  2022-11-15  Welcome to another issue of our India x Cleant...      0\n",
       "1  2022-11-15  A round-up of the biggest articles from newspa...      1\n",
       "2  2022-11-16  The 30-share BSE Sensex closed  up  107.73 poi...      0\n",
       "3  2022-11-16  That kind of moonshot market performance is ra...      1\n",
       "4  2022-11-16  EKI Energy Services shares shot up 10,000 per ...      0\n",
       "5  2022-11-14  At least three of the four top emitters of gre...      1\n",
       "6  2022-11-15  The 30-share BSE Sensex was  down  147.01 poin...      1\n",
       "7  2022-11-14  The 30-share BSE Sensex was  down  115.18 poin...      1\n",
       "8  2022-11-14  It is still an unequal world with enormous dis...      0"
      ]
     },
     "execution_count": 200,
     "metadata": {},
     "output_type": "execute_result"
    }
   ],
   "source": [
    "df"
   ]
  },
  {
   "cell_type": "code",
   "execution_count": null,
   "id": "b2136f1f",
   "metadata": {},
   "outputs": [],
   "source": []
  }
 ],
 "metadata": {
  "kernelspec": {
   "display_name": "Python 3 (ipykernel)",
   "language": "python",
   "name": "python3"
  },
  "language_info": {
   "codemirror_mode": {
    "name": "ipython",
    "version": 3
   },
   "file_extension": ".py",
   "mimetype": "text/x-python",
   "name": "python",
   "nbconvert_exporter": "python",
   "pygments_lexer": "ipython3",
   "version": "3.8.8"
  }
 },
 "nbformat": 4,
 "nbformat_minor": 5
}
